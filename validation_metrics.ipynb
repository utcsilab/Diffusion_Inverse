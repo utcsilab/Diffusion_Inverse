{
 "cells": [
  {
   "cell_type": "code",
   "execution_count": 1,
   "metadata": {},
   "outputs": [],
   "source": [
    "import torch\n",
    "import numpy as np"
   ]
  },
  {
   "cell_type": "markdown",
   "metadata": {},
   "source": [
    "## L1 Baselines"
   ]
  },
  {
   "cell_type": "code",
   "execution_count": 4,
   "metadata": {},
   "outputs": [],
   "source": [
    "sample = 0\n",
    "val_R = 8\n",
    "train_R = 8\n",
    "ssim_list = []\n",
    "nrmse_list = []\n",
    "psnr_list = []\n",
    "\n",
    "for sample in range(100):\n",
    "    results_file = '/csiNAS2/slow/brett/ambientmri_L1_R=%d_baseline_DPS_results/sample%d/R=%d/checkpoint.pt'%(train_R,sample,val_R)\n",
    "    cont = torch.load(results_file)\n",
    "\n",
    "    ssim_list.append(cont['ssim'])\n",
    "    nrmse_list.append(cont['nrmse'])\n",
    "    psnr_list.append(cont['psnr'])\n",
    "\n"
   ]
  },
  {
   "cell_type": "code",
   "execution_count": 5,
   "metadata": {},
   "outputs": [
    {
     "name": "stdout",
     "output_type": "stream",
     "text": [
      "NRMSE:  0.21002712974761142\n",
      "SSIM:  0.8018957329466965\n",
      "PSNR:  27.72495368526706\n"
     ]
    }
   ],
   "source": [
    "print('NRMSE: ', np.mean(nrmse_list))\n",
    "print('SSIM: ', np.mean(ssim_list))\n",
    "print('PSNR: ', np.mean(psnr_list))"
   ]
  },
  {
   "cell_type": "markdown",
   "metadata": {},
   "source": [
    "## R=1 MVUE Baseline"
   ]
  },
  {
   "cell_type": "code",
   "execution_count": 13,
   "metadata": {},
   "outputs": [],
   "source": [
    "sample = 0\n",
    "val_R = 8\n",
    "ssim_list = []\n",
    "nrmse_list = []\n",
    "psnr_list = []\n",
    "\n",
    "for sample in range(100):\n",
    "    results_file = '/csiNAS2/slow/brett/ambientmri_baseline_DPS_results/sample%d/R=%d/checkpoint.pt'%(sample,val_R)\n",
    "    cont = torch.load(results_file)\n",
    "\n",
    "    ssim_list.append(cont['ssim'])\n",
    "    nrmse_list.append(cont['nrmse'])\n",
    "    psnr_list.append(cont['psnr'])\n"
   ]
  },
  {
   "cell_type": "code",
   "execution_count": 14,
   "metadata": {},
   "outputs": [
    {
     "name": "stdout",
     "output_type": "stream",
     "text": [
      "NRMSE:  0.1830953729165652\n",
      "SSIM:  0.8421341304819179\n",
      "PSNR:  29.026376653405702\n"
     ]
    }
   ],
   "source": [
    "print('NRMSE: ', np.mean(nrmse_list))\n",
    "print('SSIM: ', np.mean(ssim_list))\n",
    "print('PSNR: ', np.mean(psnr_list))"
   ]
  },
  {
   "cell_type": "code",
   "execution_count": null,
   "metadata": {},
   "outputs": [],
   "source": []
  }
 ],
 "metadata": {
  "interpreter": {
   "hash": "fb5b8dd8ae27c584e5f2a8723198ac3c69761e25abddb192d282e6527ed19b4b"
  },
  "kernelspec": {
   "display_name": "Python 3.9.16 ('edm')",
   "language": "python",
   "name": "python3"
  },
  "language_info": {
   "codemirror_mode": {
    "name": "ipython",
    "version": 3
   },
   "file_extension": ".py",
   "mimetype": "text/x-python",
   "name": "python",
   "nbconvert_exporter": "python",
   "pygments_lexer": "ipython3",
   "version": "3.9.16"
  },
  "orig_nbformat": 4
 },
 "nbformat": 4,
 "nbformat_minor": 2
}
